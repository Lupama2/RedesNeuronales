{
 "cells": [
  {
   "cell_type": "markdown",
   "metadata": {},
   "source": [
    "### Ejercicio 4"
   ]
  },
  {
   "cell_type": "code",
   "execution_count": 1,
   "metadata": {},
   "outputs": [],
   "source": [
    "#Import libraries\n",
    "import numpy as np"
   ]
  },
  {
   "cell_type": "code",
   "execution_count": 2,
   "metadata": {},
   "outputs": [],
   "source": [
    "#Defino ctes\n",
    "\n",
    "\n",
    "C_hat = 1 #[mS]\n",
    "g_K_adim = 36\n",
    "g_Na_adim = 120\n",
    "g_L_adim = 0.3\n",
    "\n",
    "V_K = -77 #[mV]\n",
    "V_Na = 50 #[mV]\n",
    "V_L = -54.4 #[mV]\n",
    "\n",
    "\n",
    "#Defino funciones\n",
    "def m_inf(V):\n",
    "\n",
    "    a_m = 0.1*(V + 40)/(1 - np.exp(-(V + 40)/10))\n",
    "    b_m = 4*np.exp(-(V + 65)/18)\n",
    "\n",
    "    return a_m/(a_m + b_m)\n",
    "\n",
    "def h_inf(V):\n",
    "        \n",
    "    a_h = 0.07*np.exp(-(V + 65)/20)\n",
    "    b_h = 1/(1 + np.exp(-(V + 35)/10))\n",
    "\n",
    "    return a_h/(a_h + b_h)\n",
    "\n",
    "def n_inf(V):\n",
    "    \n",
    "    a_n = 0.01*(V + 55)/(1 - np.exp(-(V + 55)/10))\n",
    "    b_n = 0.125*np.exp(-(V + 65)/80)\n",
    "\n",
    "    return a_n/(a_n + b_n)\n",
    "\n",
    "def tau_m(V):\n",
    "        \n",
    "    a_m = 0.1*(V + 40)/(1 - np.exp(-(V + 40)/10))\n",
    "    b_m = 4*np.exp(-(V + 65)/18)\n",
    "\n",
    "    return 1/(a_m + b_m)\n",
    "\n",
    "def tau_h(V):\n",
    "\n",
    "    a_h = 0.07*np.exp(-(V + 65)/20)\n",
    "    b_h = 1/(1 + np.exp(-(V + 35)/10))\n",
    "\n",
    "    return 1/(a_h + b_h)\n",
    "\n",
    "def tau_n(V):\n",
    "    \n",
    "    a_n = 0.01*(V + 55)/(1 - np.exp(-(V + 55)/10))\n",
    "    b_n = 0.125*np.exp(-(V + 65)/80)\n",
    "\n",
    "    return 1/(a_n + b_n)\n"
   ]
  },
  {
   "cell_type": "code",
   "execution_count": 3,
   "metadata": {},
   "outputs": [],
   "source": [
    "#Defino derivada\n",
    "\n",
    "def derivada(t, y, I_ext):\n",
    "    '''\n",
    "    \n",
    "    \n",
    "\n",
    "    C_hat = C / g_hat : [ms = mili segundos]\n",
    "    I_ext : [muA/cm2]\n",
    "    V: [mV]\n",
    "    \n",
    "    Derivada\n",
    "    y[0]: V\n",
    "    y[1]: m\n",
    "    y[2]: h\n",
    "    y[3]: n\n",
    "    \n",
    "    '''\n",
    "\n",
    "    #Def derivative vector\n",
    "    dydt = np.empty(4)\n",
    "\n",
    "    #Asigno variables\n",
    "    V = y[0]; m = y[1]; h = y[2]; n = y[3]\n",
    "\n",
    "    #Eq of charge conservation\n",
    "    dydt[0] = (1/C_hat) *(I_ext - g_K_adim*n**4*(V - V_K) - g_Na_adim*m**3*h*(V - V_Na) - g_L_adim*(V - V_L))\n",
    "\n",
    "    #Eq's m, h, n\n",
    "    dydt[1] = (m_inf(V) - m)/tau_m(V)\n",
    "    dydt[2] = (h_inf(V) - h)/tau_h(V)\n",
    "    dydt[3] = (n_inf(V) - n)/tau_n(V)\n",
    "\n",
    "\n",
    "    return dydt"
   ]
  },
  {
   "cell_type": "code",
   "execution_count": 4,
   "metadata": {},
   "outputs": [],
   "source": [
    "#Condiciones iniciales\n",
    "V0 = -77\n",
    "y0_vec = np.array([V0, m_inf(V0), h_inf(V0), n_inf(V0)])"
   ]
  },
  {
   "cell_type": "code",
   "execution_count": 5,
   "metadata": {},
   "outputs": [
    {
     "name": "stderr",
     "output_type": "stream",
     "text": [
      "C:\\Users\\lupam\\AppData\\Local\\Temp\\ipykernel_10632\\3441978128.py:17: RuntimeWarning: overflow encountered in exp\n",
      "  a_m = 0.1*(V + 40)/(1 - np.exp(-(V + 40)/10))\n",
      "C:\\Users\\lupam\\AppData\\Local\\Temp\\ipykernel_10632\\3441978128.py:18: RuntimeWarning: overflow encountered in exp\n",
      "  b_m = 4*np.exp(-(V + 65)/18)\n",
      "C:\\Users\\lupam\\AppData\\Local\\Temp\\ipykernel_10632\\3441978128.py:38: RuntimeWarning: overflow encountered in exp\n",
      "  a_m = 0.1*(V + 40)/(1 - np.exp(-(V + 40)/10))\n",
      "C:\\Users\\lupam\\AppData\\Local\\Temp\\ipykernel_10632\\3441978128.py:39: RuntimeWarning: overflow encountered in exp\n",
      "  b_m = 4*np.exp(-(V + 65)/18)\n",
      "C:\\Users\\lupam\\AppData\\Local\\Temp\\ipykernel_10632\\3530957316.py:30: RuntimeWarning: divide by zero encountered in scalar divide\n",
      "  dydt[1] = (m_inf(V) - m)/tau_m(V)\n",
      "C:\\Users\\lupam\\AppData\\Local\\Temp\\ipykernel_10632\\3441978128.py:24: RuntimeWarning: overflow encountered in exp\n",
      "  a_h = 0.07*np.exp(-(V + 65)/20)\n",
      "C:\\Users\\lupam\\AppData\\Local\\Temp\\ipykernel_10632\\3441978128.py:25: RuntimeWarning: overflow encountered in exp\n",
      "  b_h = 1/(1 + np.exp(-(V + 35)/10))\n",
      "C:\\Users\\lupam\\AppData\\Local\\Temp\\ipykernel_10632\\3441978128.py:27: RuntimeWarning: invalid value encountered in scalar divide\n",
      "  return a_h/(a_h + b_h)\n",
      "C:\\Users\\lupam\\AppData\\Local\\Temp\\ipykernel_10632\\3441978128.py:45: RuntimeWarning: overflow encountered in exp\n",
      "  a_h = 0.07*np.exp(-(V + 65)/20)\n",
      "C:\\Users\\lupam\\AppData\\Local\\Temp\\ipykernel_10632\\3441978128.py:46: RuntimeWarning: overflow encountered in exp\n",
      "  b_h = 1/(1 + np.exp(-(V + 35)/10))\n",
      "C:\\Users\\lupam\\AppData\\Local\\Temp\\ipykernel_10632\\3441978128.py:31: RuntimeWarning: overflow encountered in exp\n",
      "  a_n = 0.01*(V + 55)/(1 - np.exp(-(V + 55)/10))\n",
      "C:\\Users\\lupam\\AppData\\Local\\Temp\\ipykernel_10632\\3441978128.py:32: RuntimeWarning: overflow encountered in exp\n",
      "  b_n = 0.125*np.exp(-(V + 65)/80)\n",
      "C:\\Users\\lupam\\AppData\\Local\\Temp\\ipykernel_10632\\3441978128.py:52: RuntimeWarning: overflow encountered in exp\n",
      "  a_n = 0.01*(V + 55)/(1 - np.exp(-(V + 55)/10))\n",
      "C:\\Users\\lupam\\AppData\\Local\\Temp\\ipykernel_10632\\3441978128.py:53: RuntimeWarning: overflow encountered in exp\n",
      "  b_n = 0.125*np.exp(-(V + 65)/80)\n",
      "C:\\Users\\lupam\\AppData\\Local\\Temp\\ipykernel_10632\\3530957316.py:32: RuntimeWarning: divide by zero encountered in scalar divide\n",
      "  dydt[3] = (n_inf(V) - n)/tau_n(V)\n",
      "c:\\Users\\lupam\\.conda\\envs\\FISCOM2023\\Lib\\site-packages\\scipy\\integrate\\_ivp\\rk.py:109: RuntimeWarning: invalid value encountered in divide\n",
      "  return norm(self._estimate_error(K, h) / scale)\n",
      "C:\\Users\\lupam\\AppData\\Local\\Temp\\ipykernel_10632\\3530957316.py:27: RuntimeWarning: overflow encountered in scalar power\n",
      "  dydt[0] = (1/C_hat) *(I_ext - g_K_adim*n**4*(V - V_K) - g_Na_adim*m**3*h*(V - V_Na) - g_L_adim*(V - V_L))\n"
     ]
    }
   ],
   "source": [
    "#Resuelvo numéricamente\n",
    "from scipy.integrate import solve_ivp\n",
    "\n",
    "t_ini = 0\n",
    "t_fin = 1000 #[ms]\n",
    "\n",
    "I_ext = 12\n",
    "\n",
    "soln = solve_ivp(derivada, [t_ini, t_fin], y0_vec, method = \"RK45\", args = (I_ext,))"
   ]
  },
  {
   "cell_type": "code",
   "execution_count": 6,
   "metadata": {},
   "outputs": [],
   "source": [
    "import ipywidgets as widgets\n",
    "from IPython.display import display"
   ]
  },
  {
   "cell_type": "code",
   "execution_count": 7,
   "metadata": {},
   "outputs": [
    {
     "data": {
      "text/plain": [
       "[<matplotlib.lines.Line2D at 0x24b51db23d0>]"
      ]
     },
     "execution_count": 7,
     "metadata": {},
     "output_type": "execute_result"
    },
    {
     "data": {
      "image/png": "[encoded data removed]",
      "text/plain": [
       "<Figure size 640x480 with 1 Axes>"
      ]
     },
     "metadata": {},
     "output_type": "display_data"
    }
   ],
   "source": [
    "#Grafico V vs t para distintas corrientes (gráfico interactivo)\n",
    "\n",
    "import matplotlib.pyplot as plt\n",
    "\n",
    "plt.plot(soln.t, soln.y[0])"
   ]
  },
  {
   "cell_type": "code",
   "execution_count": 8,
   "metadata": {},
   "outputs": [
    {
     "data": {
      "application/vnd.jupyter.widget-view+json": {
       "model_id": "a8d69c3b72bb4615a3d139466ef281ee",
       "version_major": 2,
       "version_minor": 0
      },
      "text/plain": [
       "interactive(children=(FloatSlider(value=5.0, description='I_ext', max=20.0), Output()), _dom_classes=('widget-…"
      ]
     },
     "metadata": {},
     "output_type": "display_data"
    },
    {
     "data": {
      "text/plain": [
       "<function __main__.solve_and_plot(I_ext)>"
      ]
     },
     "execution_count": 8,
     "metadata": {},
     "output_type": "execute_result"
    }
   ],
   "source": [
    "def solve_and_plot(I_ext):\n",
    "    t_ini = 0\n",
    "    t_fin = 100 #[ms]\n",
    "    \n",
    "    soln = solve_ivp(derivada, [t_ini, t_fin], y0_vec, method=\"RK45\", args=(I_ext,))\n",
    "    plt.plot(soln.t, soln.y[0])\n",
    "    plt.ylabel(\"V (mV)\")\n",
    "    plt.xlabel(\"t (ms)\")\n",
    "    plt.ylim([-100,50])\n",
    "    plt.show()\n",
    "    \n",
    "\n",
    "# Widget interactivo\n",
    "widgets.interact(solve_and_plot, I_ext=widgets.FloatSlider(min=0, max=20, step=0.1, value=5))\n"
   ]
  },
  {
   "cell_type": "code",
   "execution_count": 9,
   "metadata": {},
   "outputs": [],
   "source": [
    "#Determino la frecuencia de los pulsos presentes en V(t) y grafico el espectro de frecuencias\n",
    "\n",
    "#Importo las librerias necesarias\n",
    "import numpy as np\n",
    "import matplotlib.pyplot as plt\n",
    "import scipy.signal as sig\n",
    "\n",
    "#Defino la función que cuenta el número de picos que tiene el voltaje en función del tiempo\n",
    "def frec_pulsos(t_vec, V_vec):\n",
    "    '''\n",
    "    \n",
    "    Debería dejar pasar algunos pasos\n",
    "    '''\n",
    "    umbral = 10\n",
    "\n",
    "    n = 0\n",
    "    for i in range(len(V_vec)):\n",
    "        if V_vec[i]>umbral and pico == False:\n",
    "            n += 1\n",
    "            pico = True\n",
    "            continue\n",
    "        if V_vec[i]<umbral:\n",
    "            pico = False\n",
    "            continue\n",
    "\n",
    "    return n/(t_vec[-1]-t_vec[0])\n",
    "\n",
    "\n",
    "\n",
    "\n",
    "#Defino la función que calcula la frecuencia de pulsos en función de I_ext\n",
    "def frec_pulsos_I(I_ext):\n",
    "\n",
    "    #Resuelvo el sistema de ecuaciones\n",
    "    t_ini = 0\n",
    "    t_fin = 1000 #[ms]\n",
    "    soln = solve_ivp(derivada, [t_ini, t_fin], y0_vec, method=\"RK45\", args=(I_ext,));\n",
    "\n",
    "    t = soln.t\n",
    "    V = soln.y[0]\n",
    "\n",
    "    #Calculo la frecuencia de pulsos\n",
    "    frec = frec_pulsos(t,V)\n",
    "\n",
    "    return frec\n"
   ]
  },
  {
   "cell_type": "code",
   "execution_count": 10,
   "metadata": {},
   "outputs": [
    {
     "name": "stderr",
     "output_type": "stream",
     "text": [
      "C:\\Users\\lupam\\AppData\\Local\\Temp\\ipykernel_10632\\3441978128.py:17: RuntimeWarning: overflow encountered in exp\n",
      "  a_m = 0.1*(V + 40)/(1 - np.exp(-(V + 40)/10))\n",
      "C:\\Users\\lupam\\AppData\\Local\\Temp\\ipykernel_10632\\3441978128.py:18: RuntimeWarning: overflow encountered in exp\n",
      "  b_m = 4*np.exp(-(V + 65)/18)\n",
      "C:\\Users\\lupam\\AppData\\Local\\Temp\\ipykernel_10632\\3441978128.py:38: RuntimeWarning: overflow encountered in exp\n",
      "  a_m = 0.1*(V + 40)/(1 - np.exp(-(V + 40)/10))\n",
      "C:\\Users\\lupam\\AppData\\Local\\Temp\\ipykernel_10632\\3441978128.py:39: RuntimeWarning: overflow encountered in exp\n",
      "  b_m = 4*np.exp(-(V + 65)/18)\n",
      "C:\\Users\\lupam\\AppData\\Local\\Temp\\ipykernel_10632\\3530957316.py:30: RuntimeWarning: divide by zero encountered in scalar divide\n",
      "  dydt[1] = (m_inf(V) - m)/tau_m(V)\n",
      "C:\\Users\\lupam\\AppData\\Local\\Temp\\ipykernel_10632\\3441978128.py:24: RuntimeWarning: overflow encountered in exp\n",
      "  a_h = 0.07*np.exp(-(V + 65)/20)\n",
      "C:\\Users\\lupam\\AppData\\Local\\Temp\\ipykernel_10632\\3441978128.py:25: RuntimeWarning: overflow encountered in exp\n",
      "  b_h = 1/(1 + np.exp(-(V + 35)/10))\n",
      "C:\\Users\\lupam\\AppData\\Local\\Temp\\ipykernel_10632\\3441978128.py:27: RuntimeWarning: invalid value encountered in scalar divide\n",
      "  return a_h/(a_h + b_h)\n",
      "C:\\Users\\lupam\\AppData\\Local\\Temp\\ipykernel_10632\\3441978128.py:45: RuntimeWarning: overflow encountered in exp\n",
      "  a_h = 0.07*np.exp(-(V + 65)/20)\n",
      "C:\\Users\\lupam\\AppData\\Local\\Temp\\ipykernel_10632\\3441978128.py:46: RuntimeWarning: overflow encountered in exp\n",
      "  b_h = 1/(1 + np.exp(-(V + 35)/10))\n",
      "C:\\Users\\lupam\\AppData\\Local\\Temp\\ipykernel_10632\\3441978128.py:31: RuntimeWarning: overflow encountered in exp\n",
      "  a_n = 0.01*(V + 55)/(1 - np.exp(-(V + 55)/10))\n",
      "C:\\Users\\lupam\\AppData\\Local\\Temp\\ipykernel_10632\\3441978128.py:32: RuntimeWarning: overflow encountered in exp\n",
      "  b_n = 0.125*np.exp(-(V + 65)/80)\n",
      "C:\\Users\\lupam\\AppData\\Local\\Temp\\ipykernel_10632\\3441978128.py:52: RuntimeWarning: overflow encountered in exp\n",
      "  a_n = 0.01*(V + 55)/(1 - np.exp(-(V + 55)/10))\n",
      "C:\\Users\\lupam\\AppData\\Local\\Temp\\ipykernel_10632\\3441978128.py:53: RuntimeWarning: overflow encountered in exp\n",
      "  b_n = 0.125*np.exp(-(V + 65)/80)\n",
      "C:\\Users\\lupam\\AppData\\Local\\Temp\\ipykernel_10632\\3530957316.py:32: RuntimeWarning: divide by zero encountered in scalar divide\n",
      "  dydt[3] = (n_inf(V) - n)/tau_n(V)\n"
     ]
    },
    {
     "data": {
      "text/plain": [
       "0.077"
      ]
     },
     "execution_count": 10,
     "metadata": {},
     "output_type": "execute_result"
    }
   ],
   "source": [
    "frec_pulsos_I(14)\n",
    "\n"
   ]
  },
  {
   "cell_type": "code",
   "execution_count": 11,
   "metadata": {},
   "outputs": [
    {
     "name": "stdout",
     "output_type": "stream",
     "text": [
      "Porcentaje de cálculo:  0.0  %\n"
     ]
    },
    {
     "name": "stderr",
     "output_type": "stream",
     "text": [
      "C:\\Users\\lupam\\AppData\\Local\\Temp\\ipykernel_10632\\3441978128.py:17: RuntimeWarning: overflow encountered in exp\n",
      "  a_m = 0.1*(V + 40)/(1 - np.exp(-(V + 40)/10))\n",
      "C:\\Users\\lupam\\AppData\\Local\\Temp\\ipykernel_10632\\3441978128.py:18: RuntimeWarning: overflow encountered in exp\n",
      "  b_m = 4*np.exp(-(V + 65)/18)\n",
      "C:\\Users\\lupam\\AppData\\Local\\Temp\\ipykernel_10632\\3441978128.py:38: RuntimeWarning: overflow encountered in exp\n",
      "  a_m = 0.1*(V + 40)/(1 - np.exp(-(V + 40)/10))\n",
      "C:\\Users\\lupam\\AppData\\Local\\Temp\\ipykernel_10632\\3441978128.py:39: RuntimeWarning: overflow encountered in exp\n",
      "  b_m = 4*np.exp(-(V + 65)/18)\n",
      "C:\\Users\\lupam\\AppData\\Local\\Temp\\ipykernel_10632\\3530957316.py:30: RuntimeWarning: divide by zero encountered in scalar divide\n",
      "  dydt[1] = (m_inf(V) - m)/tau_m(V)\n",
      "C:\\Users\\lupam\\AppData\\Local\\Temp\\ipykernel_10632\\3441978128.py:24: RuntimeWarning: overflow encountered in exp\n",
      "  a_h = 0.07*np.exp(-(V + 65)/20)\n",
      "C:\\Users\\lupam\\AppData\\Local\\Temp\\ipykernel_10632\\3441978128.py:25: RuntimeWarning: overflow encountered in exp\n",
      "  b_h = 1/(1 + np.exp(-(V + 35)/10))\n",
      "C:\\Users\\lupam\\AppData\\Local\\Temp\\ipykernel_10632\\3441978128.py:27: RuntimeWarning: invalid value encountered in scalar divide\n",
      "  return a_h/(a_h + b_h)\n",
      "C:\\Users\\lupam\\AppData\\Local\\Temp\\ipykernel_10632\\3441978128.py:45: RuntimeWarning: overflow encountered in exp\n",
      "  a_h = 0.07*np.exp(-(V + 65)/20)\n",
      "C:\\Users\\lupam\\AppData\\Local\\Temp\\ipykernel_10632\\3441978128.py:46: RuntimeWarning: overflow encountered in exp\n",
      "  b_h = 1/(1 + np.exp(-(V + 35)/10))\n",
      "C:\\Users\\lupam\\AppData\\Local\\Temp\\ipykernel_10632\\3441978128.py:31: RuntimeWarning: overflow encountered in exp\n",
      "  a_n = 0.01*(V + 55)/(1 - np.exp(-(V + 55)/10))\n",
      "C:\\Users\\lupam\\AppData\\Local\\Temp\\ipykernel_10632\\3441978128.py:32: RuntimeWarning: overflow encountered in exp\n",
      "  b_n = 0.125*np.exp(-(V + 65)/80)\n",
      "C:\\Users\\lupam\\AppData\\Local\\Temp\\ipykernel_10632\\3441978128.py:52: RuntimeWarning: overflow encountered in exp\n",
      "  a_n = 0.01*(V + 55)/(1 - np.exp(-(V + 55)/10))\n",
      "C:\\Users\\lupam\\AppData\\Local\\Temp\\ipykernel_10632\\3441978128.py:53: RuntimeWarning: overflow encountered in exp\n",
      "  b_n = 0.125*np.exp(-(V + 65)/80)\n",
      "C:\\Users\\lupam\\AppData\\Local\\Temp\\ipykernel_10632\\3530957316.py:32: RuntimeWarning: divide by zero encountered in scalar divide\n",
      "  dydt[3] = (n_inf(V) - n)/tau_n(V)\n"
     ]
    },
    {
     "name": "stdout",
     "output_type": "stream",
     "text": [
      "Porcentaje de cálculo:  2.5  %\n",
      "Porcentaje de cálculo:  5.0  %\n",
      "Porcentaje de cálculo:  7.5  %\n",
      "Porcentaje de cálculo:  10.0  %\n",
      "Porcentaje de cálculo:  12.5  %\n",
      "Porcentaje de cálculo:  15.0  %\n",
      "Porcentaje de cálculo:  17.5  %\n",
      "Porcentaje de cálculo:  20.0  %\n",
      "Porcentaje de cálculo:  22.5  %\n",
      "Porcentaje de cálculo:  25.0  %\n",
      "Porcentaje de cálculo:  27.500000000000004  %\n",
      "Porcentaje de cálculo:  30.0  %\n",
      "Porcentaje de cálculo:  32.5  %\n",
      "Porcentaje de cálculo:  35.0  %\n",
      "Porcentaje de cálculo:  37.5  %\n",
      "Porcentaje de cálculo:  40.0  %\n",
      "Porcentaje de cálculo:  42.5  %\n",
      "Porcentaje de cálculo:  45.0  %\n",
      "Porcentaje de cálculo:  47.5  %\n",
      "Porcentaje de cálculo:  50.0  %\n",
      "Porcentaje de cálculo:  52.5  %\n",
      "Porcentaje de cálculo:  55.00000000000001  %\n",
      "Porcentaje de cálculo:  57.49999999999999  %\n",
      "Porcentaje de cálculo:  60.0  %\n",
      "Porcentaje de cálculo:  62.5  %\n",
      "Porcentaje de cálculo:  65.0  %\n",
      "Porcentaje de cálculo:  67.5  %\n",
      "Porcentaje de cálculo:  70.0  %\n",
      "Porcentaje de cálculo:  72.5  %\n",
      "Porcentaje de cálculo:  75.0  %\n",
      "Porcentaje de cálculo:  77.5  %\n",
      "Porcentaje de cálculo:  80.0  %\n",
      "Porcentaje de cálculo:  82.5  %\n",
      "Porcentaje de cálculo:  85.0  %\n",
      "Porcentaje de cálculo:  87.5  %\n",
      "Porcentaje de cálculo:  90.0  %\n",
      "Porcentaje de cálculo:  92.5  %\n",
      "Porcentaje de cálculo:  95.0  %\n",
      "Porcentaje de cálculo:  97.5  %\n"
     ]
    }
   ],
   "source": [
    "#Calculo la frecuencia para distintos valores de corriente\n",
    "I_ext_vec = np.linspace(0,14, num = 40)\n",
    "frec_vec = np.empty(len(I_ext_vec))\n",
    "\n",
    "for i in range(len(I_ext_vec)):\n",
    "    frec_vec[i] = frec_pulsos_I(I_ext_vec[i])\n",
    "    print(\"Porcentaje de cálculo: \", i/len(I_ext_vec)*100, \" %\")\n"
   ]
  },
  {
   "cell_type": "code",
   "execution_count": 12,
   "metadata": {},
   "outputs": [
    {
     "data": {
      "text/plain": [
       "Text(0.5, 0, 'I_ext [mA]')"
      ]
     },
     "execution_count": 12,
     "metadata": {},
     "output_type": "execute_result"
    },
    {
     "data": {
      "image/png": "[encoded data removed]",
      "text/plain": [
       "<Figure size 640x480 with 1 Axes>"
      ]
     },
     "metadata": {},
     "output_type": "display_data"
    }
   ],
   "source": [
    "#Grafico\n",
    "plt.plot(I_ext_vec, frec_vec, \"-o\")\n",
    "plt.ylabel(\"f [1/s]\")\n",
    "plt.xlabel(\"I_ext [mA]\")"
   ]
  },
  {
   "cell_type": "code",
   "execution_count": null,
   "metadata": {},
   "outputs": [],
   "source": []
  },
  {
   "cell_type": "code",
   "execution_count": null,
   "metadata": {},
   "outputs": [],
   "source": []
  }
 ],
 "metadata": {
  "kernelspec": {
   "display_name": "FISCOM2023",
   "language": "python",
   "name": "python3"
  },
  "language_info": {
   "codemirror_mode": {
    "name": "ipython",
    "version": 3
   },
   "file_extension": ".py",
   "mimetype": "text/x-python",
   "name": "python",
   "nbconvert_exporter": "python",
   "pygments_lexer": "ipython3",
   "version": "3.11.4"
  },
  "orig_nbformat": 4
 },
 "nbformat": 4,
 "nbformat_minor": 2
}
