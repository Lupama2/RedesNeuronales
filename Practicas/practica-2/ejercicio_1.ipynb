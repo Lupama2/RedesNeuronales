{
 "cells": [
  {
   "cell_type": "markdown",
   "metadata": {},
   "source": [
    "# Ejercicio 1 - P2\n"
   ]
  },
  {
   "cell_type": "markdown",
   "metadata": {},
   "source": [
    "## Importo dependencias"
   ]
  },
  {
   "cell_type": "code",
   "execution_count": 2,
   "metadata": {},
   "outputs": [],
   "source": [
    "#Import libraries\n",
    "import numpy as np\n"
   ]
  },
  {
   "cell_type": "markdown",
   "metadata": {},
   "source": [
    "## Condiciones iniciales\n"
   ]
  },
  {
   "cell_type": "code",
   "execution_count": 3,
   "metadata": {},
   "outputs": [],
   "source": [
    "from fun_ejercicio_1 import m_inf, h_inf, n_inf, s_inf"
   ]
  },
  {
   "cell_type": "code",
   "execution_count": 4,
   "metadata": {},
   "outputs": [
    {
     "ename": "NameError",
     "evalue": "name 's_inf' is not defined",
     "output_type": "error",
     "traceback": [
      "\u001b[1;31m---------------------------------------------------------------------------\u001b[0m",
      "\u001b[1;31mNameError\u001b[0m                                 Traceback (most recent call last)",
      "Cell \u001b[1;32mIn[4], line 5\u001b[0m\n\u001b[0;32m      2\u001b[0m V0_1 \u001b[39m=\u001b[39m \u001b[39m-\u001b[39m\u001b[39m77\u001b[39m\n\u001b[0;32m      3\u001b[0m V0_2 \u001b[39m=\u001b[39m \u001b[39m-\u001b[39m\u001b[39m50\u001b[39m\n\u001b[1;32m----> 5\u001b[0m y0_1_vec \u001b[39m=\u001b[39m np\u001b[39m.\u001b[39marray([V0_1, m_inf(V0_1), h_inf(V0_1), n_inf(V0_1), s_inf(V0_1)])\n\u001b[0;32m      6\u001b[0m y0_2_vec \u001b[39m=\u001b[39m np\u001b[39m.\u001b[39marray([V0_2, m_inf(V0_2), h_inf(V0_2), n_inf(V0_2), s_inf(V0_2)])\n\u001b[0;32m      8\u001b[0m y0 \u001b[39m=\u001b[39m np\u001b[39m.\u001b[39mconcatenate((y0_1_vec, y0_2_vec))\n",
      "\u001b[1;31mNameError\u001b[0m: name 's_inf' is not defined"
     ]
    }
   ],
   "source": [
    "#Def CI\n",
    "V0_1 = -77\n",
    "V0_2 = -50\n",
    "\n",
    "y0_1_vec = np.array([V0_1, m_inf(V0_1), h_inf(V0_1), n_inf(V0_1), s_inf(V0_1)])\n",
    "y0_2_vec = np.array([V0_2, m_inf(V0_2), h_inf(V0_2), n_inf(V0_2), s_inf(V0_2)])\n",
    "\n",
    "y0 = np.concatenate((y0_1_vec, y0_2_vec))"
   ]
  },
  {
   "cell_type": "code",
   "execution_count": null,
   "metadata": {},
   "outputs": [],
   "source": [
    "#Print CI\n",
    "\n",
    "print(y0)"
   ]
  },
  {
   "cell_type": "code",
   "execution_count": null,
   "metadata": {},
   "outputs": [],
   "source": [
    "#Print dCI/dt\n",
    "\n",
    "from deriv_ejercicio_1 import derivada\n",
    "\n",
    "t0 = 0\n",
    "I_ext0 = 0\n",
    "g_syn0 = 1\n",
    "V_syn0 = 1\n",
    "\n",
    "dydt0 = derivada(t0, y0, I_ext0, g_syn0, V_syn0)\n",
    "\n",
    "print(dydt0)\n"
   ]
  },
  {
   "cell_type": "markdown",
   "metadata": {},
   "source": [
    "## Solución numérica"
   ]
  },
  {
   "cell_type": "code",
   "execution_count": null,
   "metadata": {},
   "outputs": [
    {
     "ename": "NameError",
     "evalue": "name 'derivada' is not defined",
     "output_type": "error",
     "traceback": [
      "\u001b[1;31m---------------------------------------------------------------------------\u001b[0m",
      "\u001b[1;31mNameError\u001b[0m                                 Traceback (most recent call last)",
      "Cell \u001b[1;32mIn[1], line 10\u001b[0m\n\u001b[0;32m      7\u001b[0m g_syn \u001b[39m=\u001b[39m \u001b[39m1\u001b[39m\n\u001b[0;32m      8\u001b[0m V_syn \u001b[39m=\u001b[39m \u001b[39m1\u001b[39m\n\u001b[1;32m---> 10\u001b[0m soln \u001b[39m=\u001b[39m solve_ivp(derivada, [t_ini, t_fin], y0, method \u001b[39m=\u001b[39m \u001b[39m\"\u001b[39m\u001b[39mRK45\u001b[39m\u001b[39m\"\u001b[39m, args \u001b[39m=\u001b[39m (I_ext,g_syn,V_syn), dense_output \u001b[39m=\u001b[39m \u001b[39mTrue\u001b[39;00m)\n\u001b[0;32m     12\u001b[0m \u001b[39m#Verifico que se halla resuelto el problema\u001b[39;00m\n\u001b[0;32m     13\u001b[0m \u001b[39mprint\u001b[39m(soln\u001b[39m.\u001b[39msuccess)\n",
      "\u001b[1;31mNameError\u001b[0m: name 'derivada' is not defined"
     ]
    }
   ],
   "source": [
    "from scipy.integrate import solve_ivp\n",
    "\n",
    "t_ini = 0\n",
    "t_fin = 10 #[ms]\n",
    "\n",
    "I_ext = 10\n",
    "g_syn = 1\n",
    "V_syn = 1\n",
    "\n",
    "soln = solve_ivp(derivada, [t_ini, t_fin], y0, method = \"RK45\", args = (I_ext,g_syn,V_syn), dense_output = True)\n",
    "\n",
    "#Verifico que se halla resuelto el problema\n",
    "print(soln.success)"
   ]
  },
  {
   "cell_type": "markdown",
   "metadata": {},
   "source": [
    "## Gráficos"
   ]
  },
  {
   "cell_type": "markdown",
   "metadata": {},
   "source": []
  }
 ],
 "metadata": {
  "kernelspec": {
   "display_name": "Maestria3",
   "language": "python",
   "name": "python3"
  },
  "language_info": {
   "codemirror_mode": {
    "name": "ipython",
    "version": 3
   },
   "file_extension": ".py",
   "mimetype": "text/x-python",
   "name": "python",
   "nbconvert_exporter": "python",
   "pygments_lexer": "ipython3",
   "version": "3.11.3"
  },
  "orig_nbformat": 4
 },
 "nbformat": 4,
 "nbformat_minor": 2
}
