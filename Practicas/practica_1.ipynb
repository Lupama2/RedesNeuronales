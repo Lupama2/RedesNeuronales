{
 "cells": [
  {
   "cell_type": "markdown",
   "metadata": {},
   "source": [
    "## Práctica 1"
   ]
  },
  {
   "cell_type": "markdown",
   "metadata": {},
   "source": [
    "### Ejercicio 1"
   ]
  },
  {
   "cell_type": "code",
   "execution_count": 1,
   "metadata": {},
   "outputs": [],
   "source": [
    "import numpy as np"
   ]
  },
  {
   "cell_type": "code",
   "execution_count": null,
   "metadata": {},
   "outputs": [],
   "source": [
    "T = 20 + 273.15\n",
    "e = \n",
    "K = 8.6e-5 #[eV/k]\n",
    "\n",
    "def DeltaV_Nerst(C_A_out, C_A_in, n_A):\n",
    "    '''\n",
    "    Potencial de equilibrio del ion A A dado por la ec de Nerst\n",
    "\n",
    "    C_A_out: concentración de la especie A en el exterior\n",
    "    C_A_in: concentración de la especie A en el interior\n",
    "    n_A: valencia del ion A\n",
    "    '''\n",
    "\n",
    "\n",
    "    return K*T*/(n_A*e)*np.log(C_A_out/C_A_in)\n",
    "\n",
    "\n",
    "A_vec = [\"K+\", \"Na+\", \"Cl-\"]\n",
    "C_A_out_vec = np.array([20, 440, 550]) #[mM]\n",
    "C_A_in_vec = np.array([430,50,65])\n",
    "n_A_vec = np.array([1, 1, -1])\n",
    "\n",
    "DeltaV_Nerst(C_A_out_vec, C_a_in_vec, n_A_vec)\n",
    "for i in range(len(A_vec)):\n",
    "    print(\"DeltaV_\", A_vec[i], f\"= {DeltaV_Nerst[i]}\")\n",
    "    "
   ]
  },
  {
   "cell_type": "markdown",
   "metadata": {},
   "source": [
    "### Ejercicio 2\n",
    "\n",
    "**Comentario de Mato: La constante de Faraday indica cuántos coulombs hay en un mol (para iones monovalentes)**\n"
   ]
  },
  {
   "cell_type": "code",
   "execution_count": null,
   "metadata": {},
   "outputs": [],
   "source": [
    "R = 15e-6 #[m]. Radio\n",
    "c = 1e-6*1e4 #[F/m]. Capacitancia\n",
    "DeltaV = 100e-3 #[V]. Diferencia de potencial que se busca generar\n"
   ]
  },
  {
   "cell_type": "markdown",
   "metadata": {},
   "source": [
    "como\n",
    "$$\\Delta Q = c * Superficie * \\Delta V $$\n",
    "y\n",
    "$$ \\Delta Q = \\Delta N_A *n_A * e $$\n",
    "entonces\n",
    "$$ N_A = \\frac{c * 4 \\pi R^2 * \\Delta V}{n_Ae}$$\n",
    "\n",
    "Por otro lado\n",
    "$$ [A] = \\frac{N_A}{Volumen * N_{Avogadro}} $$\n",
    "en unidades de "
   ]
  },
  {
   "cell_type": "code",
   "execution_count": 4,
   "metadata": {},
   "outputs": [
    {
     "ename": "SyntaxError",
     "evalue": "invalid syntax (861112081.py, line 1)",
     "output_type": "error",
     "traceback": [
      "\u001b[1;36m  Cell \u001b[1;32mIn[4], line 1\u001b[1;36m\u001b[0m\n\u001b[1;33m    N_Avogadro =\u001b[0m\n\u001b[1;37m                 ^\u001b[0m\n\u001b[1;31mSyntaxError\u001b[0m\u001b[1;31m:\u001b[0m invalid syntax\n"
     ]
    }
   ],
   "source": [
    "N_Avogadro = \n",
    "\n",
    "N_A = c*4*pi*R**2*DeltaV/n_A/e\n",
    "\n",
    "C_A = N_A/(4/3*pi*R**3)/N_avogadro\n",
    "\n"
   ]
  },
  {
   "cell_type": "markdown",
   "metadata": {},
   "source": [
    "### Ejercicio 3\n",
    "\n",
    "**Comentario de Mato: corriente = flujo*area*carga**"
   ]
  },
  {
   "cell_type": "code",
   "execution_count": null,
   "metadata": {},
   "outputs": [],
   "source": [
    "def j_A():\n",
    "    '''\n",
    "    Flujo del ion A dado por la ec. de Goldman\n",
    "    '''\n",
    "\n",
    "    return "
   ]
  }
 ],
 "metadata": {
  "kernelspec": {
   "display_name": "FISCOM2023",
   "language": "python",
   "name": "python3"
  },
  "language_info": {
   "codemirror_mode": {
    "name": "ipython",
    "version": 3
   },
   "file_extension": ".py",
   "mimetype": "text/x-python",
   "name": "python",
   "nbconvert_exporter": "python",
   "pygments_lexer": "ipython3",
   "version": "3.11.4"
  },
  "orig_nbformat": 4
 },
 "nbformat": 4,
 "nbformat_minor": 2
}
