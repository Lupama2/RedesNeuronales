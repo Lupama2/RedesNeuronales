{
 "cells": [
  {
   "cell_type": "markdown",
   "metadata": {},
   "source": [
    "## Práctica 1"
   ]
  },
  {
   "cell_type": "markdown",
   "metadata": {},
   "source": [
    "### Ejercicio 1"
   ]
  },
  {
   "cell_type": "code",
   "execution_count": 3,
   "metadata": {},
   "outputs": [],
   "source": [
    "import numpy as np"
   ]
  },
  {
   "cell_type": "code",
   "execution_count": 4,
   "metadata": {},
   "outputs": [
    {
     "ename": "SyntaxError",
     "evalue": "invalid syntax (507249790.py, line 2)",
     "output_type": "error",
     "traceback": [
      "\u001b[1;36m  Cell \u001b[1;32mIn[4], line 2\u001b[1;36m\u001b[0m\n\u001b[1;33m    e =\u001b[0m\n\u001b[1;37m        ^\u001b[0m\n\u001b[1;31mSyntaxError\u001b[0m\u001b[1;31m:\u001b[0m invalid syntax\n"
     ]
    }
   ],
   "source": [
    "T = 20 + 273.15\n",
    "e = \n",
    "K = 8.6e-5 #[eV/k]\n",
    "\n",
    "def DeltaV_Nerst(C_A_out, C_A_in, n_A):\n",
    "    '''\n",
    "    Potencial de equilibrio del ion A A dado por la ec de Nerst\n",
    "\n",
    "    C_A_out: concentración de la especie A en el exterior\n",
    "    C_A_in: concentración de la especie A en el interior\n",
    "    n_A: valencia del ion A\n",
    "    '''\n",
    "\n",
    "\n",
    "    return K*T*/(n_A*e)*np.log(C_A_out/C_A_in)\n",
    "\n",
    "\n",
    "A_vec = [\"K+\", \"Na+\", \"Cl-\"]\n",
    "C_A_out_vec = np.array([20, 440, 550]) #[mM]\n",
    "C_A_in_vec = np.array([430,50,65])\n",
    "n_A_vec = np.array([1, 1, -1])\n",
    "\n",
    "DeltaV_Nerst(C_A_out_vec, C_a_in_vec, n_A_vec)\n",
    "for i in range(len(A_vec)):\n",
    "    print(\"DeltaV_\", A_vec[i], f\"= {DeltaV_Nerst[i]}\")\n",
    "    "
   ]
  },
  {
   "cell_type": "markdown",
   "metadata": {},
   "source": [
    "### Ejercicio 2\n",
    "\n",
    "**Comentario de Mato: La constante de Faraday indica cuántos coulombs hay en un mol (para iones monovalentes)**\n"
   ]
  },
  {
   "cell_type": "code",
   "execution_count": null,
   "metadata": {},
   "outputs": [],
   "source": [
    "R = 15e-6 #[m]. Radio\n",
    "c = 1e-6*1e4 #[F/m]. Capacitancia\n",
    "DeltaV = 100e-3 #[V]. Diferencia de potencial que se busca generar\n"
   ]
  },
  {
   "cell_type": "markdown",
   "metadata": {},
   "source": [
    "como\n",
    "$$\\Delta Q = c * Superficie * \\Delta V $$\n",
    "y\n",
    "$$ \\Delta Q = \\Delta N_A *n_A * e $$\n",
    "entonces\n",
    "$$ N_A = \\frac{c * 4 \\pi R^2 * \\Delta V}{n_Ae}$$\n",
    "\n",
    "Por otro lado\n",
    "$$ [A] = \\frac{N_A}{Volumen * N_{Avogadro}} $$\n",
    "en unidades de "
   ]
  },
  {
   "cell_type": "code",
   "execution_count": null,
   "metadata": {},
   "outputs": [
    {
     "ename": "SyntaxError",
     "evalue": "invalid syntax (861112081.py, line 1)",
     "output_type": "error",
     "traceback": [
      "\u001b[1;36m  Cell \u001b[1;32mIn[4], line 1\u001b[1;36m\u001b[0m\n\u001b[1;33m    N_Avogadro =\u001b[0m\n\u001b[1;37m                 ^\u001b[0m\n\u001b[1;31mSyntaxError\u001b[0m\u001b[1;31m:\u001b[0m invalid syntax\n"
     ]
    }
   ],
   "source": [
    "N_Avogadro = \n",
    "\n",
    "N_A = c*4*pi*R**2*DeltaV/n_A/e\n",
    "\n",
    "C_A = N_A/(4/3*pi*R**3)/N_avogadro\n",
    "\n"
   ]
  },
  {
   "cell_type": "markdown",
   "metadata": {},
   "source": [
    "### Ejercicio 3\n",
    "\n",
    "**Comentario de Mato: corriente = flujo*area*carga**"
   ]
  },
  {
   "cell_type": "code",
   "execution_count": null,
   "metadata": {},
   "outputs": [],
   "source": [
    "def j_A():\n",
    "    '''\n",
    "    Flujo del ion A dado por la ec. de Goldman\n",
    "    '''\n",
    "\n",
    "    return "
   ]
  },
  {
   "cell_type": "markdown",
   "metadata": {},
   "source": [
    "### Ejercicio 4\n",
    "Está desarrollado en un notebook aparte\n",
    "\n",
    "### Ejercicio 5\n",
    "Se hace a partir del modelo del ejercicio 4. Se obtiene el fenómeno de rebote posibilitorio, en el caul aparece un potencial de acción a pesar de que $I < I_{ext}^c$, donde $I_{ext}^c$ corresponde a la mínima frecuencia necesaria para que se produzcan los spikes de forma periódica (en el modelo de Hodgikin-Huxley)\n",
    "\n",
    "### Ejercicio 6\n",
    "La simulación parece relativamente sencilla. Habría que obtener el comportamiento visto en clases. El cálculo analítico de la curva f-I se hace en mis notas\n",
    "\n",
    "### Ejercicio 7: NO TERMINADO\n",
    "Parece un ejercicio sencillo. Debería hacer bien los gráficos de las nullclinas y luego analizarlos. La única diferencia es que adimensionalizo el tiempo usando Tau\n",
    "\n",
    "Modelo de FitzHugh-Nagumo\n",
    "\n",
    "$$ \\frac{dV}{dt} = f(V) + I - w $$\n",
    "\n",
    "$$ \\bar{\\tau} \\frac{dw}{dt} = -\\gamma w + bV $$\n",
    "donde\n",
    "$$ f(V) = V(a-V)(V-1), 0<a<1,b>0,\\gamma>0 $$\n",
    "$$ \\bar{\\tau} = \\frac{\\tau_w}{\\tau} $$\n",
    "\n",
    "Creo que no afecta en nada adimensionalizar"
   ]
  },
  {
   "cell_type": "code",
   "execution_count": 15,
   "metadata": {},
   "outputs": [],
   "source": [
    "#Def functions\n",
    "from scipy.optimize import fsolve\n",
    "\n",
    "def f(V,a):\n",
    "    return V*(a-V)*(V-1)\n",
    "\n",
    "def eq_nullclina_V(V, w, a, I):\n",
    "    '''\n",
    "    Nullclina de V. Ec tal que si la igualo a ce3ro tengo la nullclina\n",
    "    '''\n",
    "    return f(V,a) + I - w\n",
    "\n",
    "def eq_nullclina_w(V, w, gamma, b):\n",
    "    '''\n",
    "    Nullclina de w. Ec tal que si la igualo a ce3ro tengo la nullclina\n",
    "    '''\n",
    "    return -gamma*w + b*V\n",
    "\n",
    "def nullclina_V(w,a,I):\n",
    "\n",
    "    V0 = 1\n",
    "    return fsolve(eq_nullclina_V, V0, args=(w,a,I))\n",
    "\n",
    "def nullclina_w(w,gamma,b):\n",
    "    \n",
    "    V0 = 1\n",
    "    return fsolve(eq_nullclina_w, V0, args=(w,gamma,b))\n"
   ]
  },
  {
   "cell_type": "code",
   "execution_count": 20,
   "metadata": {},
   "outputs": [
    {
     "data": {
      "image/png": "[encoded data removed]",
      "text/plain": [
       "<Figure size 700x700 with 1 Axes>"
      ]
     },
     "metadata": {},
     "output_type": "display_data"
    }
   ],
   "source": [
    "#Grafico caso particular\n",
    "\n",
    "import matplotlib.pyplot as plt\n",
    "import numpy as np\n",
    "\n",
    "\n",
    "#Parametros\n",
    "a = 0.5\n",
    "b = 0.5\n",
    "gamma = 1\n",
    "I = 0.5\n",
    "\n",
    "#Grafico\n",
    "V = np.linspace(-5,5,1000)\n",
    "w = np.linspace(-5,5,1000)\n",
    "\n",
    "def plot_nullclinas(a, I, gamma, b):\n",
    "\n",
    "    plt.figure(figsize=(7,7))\n",
    "    plt.plot(w, np.vectorize(nullclina_V)(w, a, I), label=\"Nullclina de V\")\n",
    "    plt.plot(w, np.vectorize(nullclina_w)(w, gamma, b), label=\"Nullclina de w\")\n",
    "    plt.legend()\n",
    "    plt.grid()\n",
    "    plt.show()\n",
    "\n",
    "plot_nullclinas(a,I,gamma,b)"
   ]
  },
  {
   "cell_type": "code",
   "execution_count": 10,
   "metadata": {},
   "outputs": [
    {
     "data": {
      "application/vnd.jupyter.widget-view+json": {
       "model_id": "ecd9fee92c5a4613b4f23841182d45e0",
       "version_major": 2,
       "version_minor": 0
      },
      "text/plain": [
       "interactive(children=(FloatSlider(value=0.5, description='a', max=1.0), FloatSlider(value=0.0, description='I'…"
      ]
     },
     "metadata": {},
     "output_type": "display_data"
    },
    {
     "data": {
      "text/plain": [
       "<function __main__.plot_nullclinas(a, I, gamma, b)>"
      ]
     },
     "execution_count": 10,
     "metadata": {},
     "output_type": "execute_result"
    }
   ],
   "source": [
    "#Varío parámetros\n",
    "\n",
    "import ipywidgets as widgets\n",
    "from IPython.display import display\n",
    "\n",
    "widgets.interact(plot_nullclinas, a=widgets.FloatSlider(min=0, max=1, step=0.1, value=0.5), I=widgets.FloatSlider(min=-5, max=5, step=0.1, value=0), gamma=widgets.FloatSlider(min=0, max=5, step=0.1, value=1), b=widgets.FloatSlider(min=0, max=5, step=0.1, value=1))"
   ]
  },
  {
   "cell_type": "code",
   "execution_count": null,
   "metadata": {},
   "outputs": [],
   "source": []
  }
 ],
 "metadata": {
  "kernelspec": {
   "display_name": "FISCOM2023",
   "language": "python",
   "name": "python3"
  },
  "language_info": {
   "codemirror_mode": {
    "name": "ipython",
    "version": 3
   },
   "file_extension": ".py",
   "mimetype": "text/x-python",
   "name": "python",
   "nbconvert_exporter": "python",
   "pygments_lexer": "ipython3",
   "version": "3.11.4"
  },
  "orig_nbformat": 4
 },
 "nbformat": 4,
 "nbformat_minor": 2
}
