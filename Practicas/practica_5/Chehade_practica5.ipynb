{
 "cells": [
  {
   "cell_type": "markdown",
   "metadata": {},
   "source": [
    "# Práctica 5\n",
    "\n",
    "date: 10/10/2023  \n",
    "File: Chehade_practica5.ipynb\n",
    "Author : Pablo Naim Chehade   \n",
    "Email: pablo.chehade.villalba@gmail.com  \n",
    "GitHub: https://github.com/Lupama2  "
   ]
  },
  {
   "cell_type": "markdown",
   "metadata": {},
   "source": [
    "## Ejercicio 1"
   ]
  },
  {
   "cell_type": "code",
   "execution_count": null,
   "metadata": {},
   "outputs": [],
   "source": [
    "#Import libraries\n",
    "import numpy as np\n",
    "import matplotlib\n",
    "import matplotlib.pyplot as plt\n",
    "\n",
    "#Hago los gráficos interactivos\n",
    "%matplotlib ipympl\n",
    "\n",
    "#Fuente y tamaño de los caracteres en los gráficos\n",
    "font = {'family' : 'Arial',\n",
    "        'weight' : 'normal',\n",
    "        'size'   : 17}\n",
    "matplotlib.rc('font', **font)"
   ]
  },
  {
   "cell_type": "code",
   "execution_count": null,
   "metadata": {},
   "outputs": [],
   "source": [
    "#Def correlation matrix\n",
    "C = \n",
    "\n",
    "C_12 = \n",
    "\n"
   ]
  },
  {
   "cell_type": "code",
   "execution_count": null,
   "metadata": {},
   "outputs": [],
   "source": [
    "def ejemplo():\n",
    "\n",
    "\n",
    "    pass\n",
    "\n",
    "def inicializacion_pesos():\n",
    "\n",
    "    pass\n",
    "\n",
    "def actualizacion_pesos(w):\n",
    "\n",
    "\n",
    "    pass\n",
    "\n",
    "def train():\n",
    "\n",
    "    pass"
   ]
  }
 ],
 "metadata": {
  "language_info": {
   "name": "python"
  }
 },
 "nbformat": 4,
 "nbformat_minor": 2
}
