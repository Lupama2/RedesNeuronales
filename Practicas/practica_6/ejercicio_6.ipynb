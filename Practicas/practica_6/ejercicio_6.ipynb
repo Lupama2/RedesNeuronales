{
 "cells": [
  {
   "cell_type": "markdown",
   "metadata": {},
   "source": [
    "# Práctica 6\n",
    "\n",
    "date: 07/11/2023  \n",
    "File: Chehade_practica6.ipynb\n",
    "Author : Pablo Naim Chehade   \n",
    "Email: pablo.chehade.villalba@gmail.com  \n",
    "GitHub: https://github.com/Lupama2  "
   ]
  },
  {
   "cell_type": "markdown",
   "metadata": {},
   "source": [
    "## Ejercicio 1"
   ]
  },
  {
   "cell_type": "code",
   "execution_count": null,
   "metadata": {},
   "outputs": [],
   "source": []
  },
  {
   "cell_type": "markdown",
   "metadata": {},
   "source": [
    "## Ejercicio 2"
   ]
  }
 ],
 "metadata": {
  "language_info": {
   "name": "python"
  }
 },
 "nbformat": 4,
 "nbformat_minor": 2
}
